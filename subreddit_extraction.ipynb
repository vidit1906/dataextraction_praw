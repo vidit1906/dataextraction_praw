{
 "cells": [
  {
   "cell_type": "code",
   "execution_count": 22,
   "metadata": {},
   "outputs": [],
   "source": [
    "import pandas as pd\n",
    "import praw\n",
    "from praw.models import MoreComments   "
   ]
  },
  {
   "cell_type": "code",
   "execution_count": 23,
   "metadata": {},
   "outputs": [],
   "source": [
    "reddit = praw.Reddit(user_agent=\"Comment Extraction (by /u/irproject)\",\n",
    "                     client_id=\"kDrP4C1vGpKvET4kprMexw\", client_secret=\"VWU0iNZSNFv3Hho_kDuQxzHNCiHsmQ\")"
   ]
  },
  {
   "cell_type": "code",
   "execution_count": 27,
   "metadata": {},
   "outputs": [],
   "source": [
    "top = reddit.subreddit(\"Bitcoin\").top(limit=\"500\")"
   ]
  },
  {
   "cell_type": "code",
   "execution_count": 28,
   "metadata": {},
   "outputs": [
    {
     "ename": "TypeError",
     "evalue": "'>=' not supported between instances of 'int' and 'str'",
     "output_type": "error",
     "traceback": [
      "\u001b[1;31m---------------------------------------------------------------------------\u001b[0m",
      "\u001b[1;31mTypeError\u001b[0m                                 Traceback (most recent call last)",
      "Cell \u001b[1;32mIn[28], line 1\u001b[0m\n\u001b[1;32m----> 1\u001b[0m \u001b[38;5;28;01mfor\u001b[39;00m post \u001b[38;5;129;01min\u001b[39;00m top:\n\u001b[0;32m      2\u001b[0m     \u001b[38;5;28mprint\u001b[39m(post\u001b[38;5;241m.\u001b[39mselftext)\n\u001b[0;32m      3\u001b[0m     \u001b[38;5;28mprint\u001b[39m(post\u001b[38;5;241m.\u001b[39mtitle)\n",
      "File \u001b[1;32m~\\anaconda3\\Lib\\site-packages\\praw\\models\\listing\\generator.py:59\u001b[0m, in \u001b[0;36mListingGenerator.__next__\u001b[1;34m(self)\u001b[0m\n\u001b[0;32m     57\u001b[0m \u001b[38;5;28;01mdef\u001b[39;00m \u001b[38;5;21m__next__\u001b[39m(\u001b[38;5;28mself\u001b[39m) \u001b[38;5;241m-\u001b[39m\u001b[38;5;241m>\u001b[39m Any:\n\u001b[0;32m     58\u001b[0m \u001b[38;5;250m    \u001b[39m\u001b[38;5;124;03m\"\"\"Permit :class:`.ListingGenerator` to operate as a generator.\"\"\"\u001b[39;00m\n\u001b[1;32m---> 59\u001b[0m     \u001b[38;5;28;01mif\u001b[39;00m \u001b[38;5;28mself\u001b[39m\u001b[38;5;241m.\u001b[39mlimit \u001b[38;5;129;01mis\u001b[39;00m \u001b[38;5;129;01mnot\u001b[39;00m \u001b[38;5;28;01mNone\u001b[39;00m \u001b[38;5;129;01mand\u001b[39;00m \u001b[38;5;28mself\u001b[39m\u001b[38;5;241m.\u001b[39myielded \u001b[38;5;241m>\u001b[39m\u001b[38;5;241m=\u001b[39m \u001b[38;5;28mself\u001b[39m\u001b[38;5;241m.\u001b[39mlimit:\n\u001b[0;32m     60\u001b[0m         \u001b[38;5;28;01mraise\u001b[39;00m \u001b[38;5;167;01mStopIteration\u001b[39;00m()\n\u001b[0;32m     62\u001b[0m     \u001b[38;5;28;01mif\u001b[39;00m \u001b[38;5;28mself\u001b[39m\u001b[38;5;241m.\u001b[39m_listing \u001b[38;5;129;01mis\u001b[39;00m \u001b[38;5;28;01mNone\u001b[39;00m \u001b[38;5;129;01mor\u001b[39;00m \u001b[38;5;28mself\u001b[39m\u001b[38;5;241m.\u001b[39m_list_index \u001b[38;5;241m>\u001b[39m\u001b[38;5;241m=\u001b[39m \u001b[38;5;28mlen\u001b[39m(\u001b[38;5;28mself\u001b[39m\u001b[38;5;241m.\u001b[39m_listing):\n",
      "\u001b[1;31mTypeError\u001b[0m: '>=' not supported between instances of 'int' and 'str'"
     ]
    }
   ],
   "source": [
    "for post in top:\n",
    "    print(post.selftext)\n",
    "    print(post.title)\n",
    "    print(post.id)\n",
    "    print(post.score)\n",
    "    print(post.url)\n",
    "    print(post.permalink)\n",
    " "
   ]
  },
  {
   "cell_type": "code",
   "execution_count": 34,
   "metadata": {},
   "outputs": [
    {
     "name": "stdout",
     "output_type": "stream",
     "text": [
      "16bm9de\n",
      "1ak2x6v\n",
      "1akfscr\n",
      "1akao74\n",
      "1akhs5o\n",
      "1akl8xu\n",
      "1ak81qj\n",
      "1akczwo\n",
      "1aklmp8\n",
      "1ajys8m\n",
      "1akgjg4\n",
      "1akbhch\n",
      "1akdbox\n",
      "1akn4hq\n",
      "1ak8kys\n",
      "1ak5q8h\n",
      "1aknbk0\n",
      "1akh98c\n",
      "1akbhrq\n",
      "1akj6vq\n",
      "1akcund\n",
      "1ako6zk\n",
      "1ak6g2g\n",
      "1akmt02\n",
      "1ak610q\n",
      "1akfm10\n",
      "1ajvgv8\n",
      "1ajhoae\n",
      "1ak3wmx\n",
      "1akj4zd\n"
     ]
    }
   ],
   "source": [
    "try:\n",
    "\treddit = praw.Reddit(client_id=\"kDrP4C1vGpKvET4kprMexw\", client_secret=\"VWU0iNZSNFv3Hho_kDuQxzHNCiHsmQ\", username=\"irproject\", password=\"password123\", user_agent='irproject')\n",
    "\thot_posts = reddit.subreddit('Bitcoin').hot(limit=30)\n",
    "\tfor submission in hot_posts: # this is the line that creates the error\n",
    "\t\tprint(submission)\n",
    "except Exception as e:\n",
    "\ttrace_back = sys.exc_info()[2]\n",
    "\tline = trace_back.tb_lineno\n",
    "\tprint(\"Process Exception in line {}\".format(line), e)"
   ]
  },
  {
   "cell_type": "code",
   "execution_count": 30,
   "metadata": {},
   "outputs": [],
   "source": [
    "import sys"
   ]
  },
  {
   "cell_type": "code",
   "execution_count": 36,
   "metadata": {},
   "outputs": [],
   "source": [
    "reddit = praw.Reddit(client_id=\"kDrP4C1vGpKvET4kprMexw\", client_secret=\"VWU0iNZSNFv3Hho_kDuQxzHNCiHsmQ\", username=\"irproject\", password=\"password123\", user_agent='irproject')\n"
   ]
  },
  {
   "cell_type": "code",
   "execution_count": 72,
   "metadata": {},
   "outputs": [],
   "source": [
    "top = reddit.subreddit('Bitcoin').top(limit=999999999999999)\n",
    "title = []\n",
    "body = []\n",
    "ids=[]\n",
    "url = []"
   ]
  },
  {
   "cell_type": "code",
   "execution_count": 79,
   "metadata": {},
   "outputs": [],
   "source": [
    "for items in top:\n",
    "    title.append(post.title)"
   ]
  },
  {
   "cell_type": "code",
   "execution_count": 80,
   "metadata": {},
   "outputs": [],
   "source": [
    "for items in top:\n",
    "    body.append(post.selftext)\n",
    "\n",
    "for items in top:\n",
    "    ids.append(post.id)\n",
    "for items in top:\n",
    "    url.append(post.url)"
   ]
  },
  {
   "cell_type": "code",
   "execution_count": 81,
   "metadata": {},
   "outputs": [
    {
     "name": "stdout",
     "output_type": "stream",
     "text": [
      "CSV file created successfully.\n"
     ]
    }
   ],
   "source": [
    "csv_filename = \"reddit1.csv\"\n",
    "with open(csv_filename, 'w', newline='', encoding='utf-8') as csvfile:\n",
    "    fieldnames = ['post_title', 'post_body','post_id','post_url']\n",
    "    writer = csv.DictWriter(csvfile, fieldnames=fieldnames)\n",
    "\n",
    "    writer.writeheader()\n",
    "    for item in title:\n",
    "        writer.writerow({'post_title': item})\n",
    "\n",
    "print(\"CSV file created successfully.\")"
   ]
  },
  {
   "cell_type": "code",
   "execution_count": 82,
   "metadata": {},
   "outputs": [],
   "source": [
    "    for item in body:\n",
    "        writer.writerow({'post_body': item})\n",
    "    for item in url:\n",
    "        writer.writerow({'post_url': item})\n",
    "    for item in ids:\n",
    "        writer.writerow({'post_id': item})\n",
    "\n",
    "        \n",
    "\n"
   ]
  },
  {
   "cell_type": "code",
   "execution_count": 88,
   "metadata": {},
   "outputs": [],
   "source": [
    "crypto_subreddits = [\n",
    "    \"Bitcoin\",\n",
    "    \"Ethereum\",\n",
    "    \"CryptoCurrency\",\n",
    "    \"Ripple\",\n",
    "    \"Litecoin\",\n",
    "    \"BitcoinMarkets\",\n",
    "    \"CryptoMarkets\",\n",
    "    \"CryptoCurrencies\",\n",
    "    \"Altcoin\",\n",
    "    \"NEO\",\n",
    "    \"Bitcoincash\",\n",
    "    \"Cardano\",\n",
    "    \"Stellar\",\n",
    "    \"Tronix\",\n",
    "    \"Dashpay\",\n",
    "    \"Iota\",\n",
    "    \"EthereumClassic\",\n",
    "    \"NEM\",\n",
    "    \"Vechain\",\n",
    "    \"Monero\",\n",
    "    \"QTUM\",\n",
    "    \"OMGnetwork\",\n",
    "    \"ICON\",\n",
    "    \"EOS\",\n",
    "    \"Zcash\",\n",
    "    \"BitcoinPrivate\",\n",
    "    \"BinanceCoin\",\n",
    "    \"Dogecoin\",\n",
    "    \"BytecoinBCN\",\n",
    "    \"BitcoinCashSV\",\n",
    "    \"Decred\",\n",
    "    \"WavesPlatform\",\n",
    "    \"0xProject\",\n",
    "    \"Electroneum\",\n",
    "    \"BitcoinGoldHQ\",\n",
    "    \"PIVX\",\n",
    "    \"BasicAttentionToken\",\n",
    "    \"Steemit\",\n",
    "    \"Augur\",\n",
    "    \"ArkEcosystem\",\n",
    "    \"Siacoin\",\n",
    "    \"TrueUSD\",\n",
    "    \"NanoCurrency\",\n",
    "    \"HoloChain\",\n",
    "    \"CryptoCom\",\n",
    "    \"Hyperledger\",\n",
    "    \"GolemProject\",\n",
    "    \"Chainlink\",\n",
    "    \"StratisPlatform\",\n",
    "    \"KyberNetwork\",\n",
    "    \"PowerLedger\",\n",
    "    \"Loopring\",\n",
    "    \"StatusIM\",\n",
    "    \"CivicPlatform\",\n",
    "    \"Particl\",\n",
    "    \"EnjinCoin\",\n",
    "    \"Aeternity\",\n",
    "    \"Ardor\",\n",
    "    \"MakerDAO\",\n",
    "    \"DigiByte\",\n",
    "    \"Cortex_Official\",\n",
    "    \"Waltonchain\",\n",
    "    \"Omise_go\",\n",
    "    \"QASH\",\n",
    "    \"PolymathNetwork\",\n",
    "    \"BATProject\",\n",
    "    \"GnosisPM\",\n",
    "    \"Aeternity\",\n",
    "    \"StratisPlatform\",\n",
    "    \"0xProject\",\n",
    "    \"AionNetwork\",\n",
    "    \"Kucoin\",\n",
    "    \"GolemTrader\",\n",
    "    \"GolemTrader\",\n",
    "    \"CryptoCurrencyTrading\",\n",
    "    \"BitcoinMining\",\n",
    "    \"EthereumMining\",\n",
    "    \"LitecoinMining\",\n",
    "    \"MiningPoolHub\",\n",
    "    \"Mining\",\n",
    "    \"MoneroMining\",\n",
    "    \"MiningRig\",\n",
    "    \"MiningPool\",\n",
    "    \"NiceHash\",\n",
    "    \"ZcashMining\",\n",
    "    \"BitcoinBeginners\",\n",
    "    \"BitcoinHelp\",\n",
    "    \"EthereumBeginners\",\n",
    "    \"AltcoinBeginners\",\n",
    "    \"CryptoCurrencies\",\n",
    "    \"NEOnewstoday\",\n",
    "    \"DashNews\",\n",
    "    \"IOTAmarkets\",\n",
    "    \"EthereumClassic\",\n",
    "    \"LitecoinMarkets\",\n",
    "    \"TronixTrading\",\n",
    "    \"EOSDev\",\n",
    "    \"QtumTrader\",\n",
    "    \"BitcoinPrivate\",\n",
    "    \"BitcoinMarketsBeta\"\n",
    "]"
   ]
  },
  {
   "cell_type": "code",
   "execution_count": 90,
   "metadata": {},
   "outputs": [
    {
     "ename": "Redirect",
     "evalue": "Redirect to /subreddits/search",
     "output_type": "error",
     "traceback": [
      "\u001b[1;31m---------------------------------------------------------------------------\u001b[0m",
      "\u001b[1;31mRedirect\u001b[0m                                  Traceback (most recent call last)",
      "Cell \u001b[1;32mIn[90], line 23\u001b[0m\n\u001b[0;32m     20\u001b[0m         subreddit \u001b[38;5;241m=\u001b[39m reddit\u001b[38;5;241m.\u001b[39msubreddit(subreddit_name)\n\u001b[0;32m     22\u001b[0m         \u001b[38;5;66;03m# Iterate over the posts in the subreddit\u001b[39;00m\n\u001b[1;32m---> 23\u001b[0m         \u001b[38;5;28;01mfor\u001b[39;00m post \u001b[38;5;129;01min\u001b[39;00m subreddit\u001b[38;5;241m.\u001b[39mnew(limit\u001b[38;5;241m=\u001b[39m\u001b[38;5;28;01mNone\u001b[39;00m):  \u001b[38;5;66;03m# Fetch all posts in the subreddit\u001b[39;00m\n\u001b[0;32m     24\u001b[0m             writer\u001b[38;5;241m.\u001b[39mwriterow({\u001b[38;5;124m'\u001b[39m\u001b[38;5;124mtitle\u001b[39m\u001b[38;5;124m'\u001b[39m: post\u001b[38;5;241m.\u001b[39mtitle,\n\u001b[0;32m     25\u001b[0m                              \u001b[38;5;124m'\u001b[39m\u001b[38;5;124mpost\u001b[39m\u001b[38;5;124m'\u001b[39m: post\u001b[38;5;241m.\u001b[39mselftext,\n\u001b[0;32m     26\u001b[0m                              \u001b[38;5;124m'\u001b[39m\u001b[38;5;124mid\u001b[39m\u001b[38;5;124m'\u001b[39m: post\u001b[38;5;241m.\u001b[39mid,\n\u001b[0;32m     27\u001b[0m                              \u001b[38;5;124m'\u001b[39m\u001b[38;5;124mpic\u001b[39m\u001b[38;5;124m'\u001b[39m: post\u001b[38;5;241m.\u001b[39murl,\n\u001b[0;32m     28\u001b[0m                              \u001b[38;5;124m'\u001b[39m\u001b[38;5;124murl\u001b[39m\u001b[38;5;124m'\u001b[39m: post\u001b[38;5;241m.\u001b[39murl})\n\u001b[0;32m     30\u001b[0m \u001b[38;5;28mprint\u001b[39m(\u001b[38;5;124m\"\u001b[39m\u001b[38;5;124mData extracted and stored in\u001b[39m\u001b[38;5;124m\"\u001b[39m, csv_filename)\n",
      "File \u001b[1;32m~\\anaconda3\\Lib\\site-packages\\praw\\models\\listing\\generator.py:63\u001b[0m, in \u001b[0;36mListingGenerator.__next__\u001b[1;34m(self)\u001b[0m\n\u001b[0;32m     60\u001b[0m     \u001b[38;5;28;01mraise\u001b[39;00m \u001b[38;5;167;01mStopIteration\u001b[39;00m()\n\u001b[0;32m     62\u001b[0m \u001b[38;5;28;01mif\u001b[39;00m \u001b[38;5;28mself\u001b[39m\u001b[38;5;241m.\u001b[39m_listing \u001b[38;5;129;01mis\u001b[39;00m \u001b[38;5;28;01mNone\u001b[39;00m \u001b[38;5;129;01mor\u001b[39;00m \u001b[38;5;28mself\u001b[39m\u001b[38;5;241m.\u001b[39m_list_index \u001b[38;5;241m>\u001b[39m\u001b[38;5;241m=\u001b[39m \u001b[38;5;28mlen\u001b[39m(\u001b[38;5;28mself\u001b[39m\u001b[38;5;241m.\u001b[39m_listing):\n\u001b[1;32m---> 63\u001b[0m     \u001b[38;5;28mself\u001b[39m\u001b[38;5;241m.\u001b[39m_next_batch()\n\u001b[0;32m     65\u001b[0m \u001b[38;5;28mself\u001b[39m\u001b[38;5;241m.\u001b[39m_list_index \u001b[38;5;241m+\u001b[39m\u001b[38;5;241m=\u001b[39m \u001b[38;5;241m1\u001b[39m\n\u001b[0;32m     66\u001b[0m \u001b[38;5;28mself\u001b[39m\u001b[38;5;241m.\u001b[39myielded \u001b[38;5;241m+\u001b[39m\u001b[38;5;241m=\u001b[39m \u001b[38;5;241m1\u001b[39m\n",
      "File \u001b[1;32m~\\anaconda3\\Lib\\site-packages\\praw\\models\\listing\\generator.py:89\u001b[0m, in \u001b[0;36mListingGenerator._next_batch\u001b[1;34m(self)\u001b[0m\n\u001b[0;32m     86\u001b[0m \u001b[38;5;28;01mif\u001b[39;00m \u001b[38;5;28mself\u001b[39m\u001b[38;5;241m.\u001b[39m_exhausted:\n\u001b[0;32m     87\u001b[0m     \u001b[38;5;28;01mraise\u001b[39;00m \u001b[38;5;167;01mStopIteration\u001b[39;00m()\n\u001b[1;32m---> 89\u001b[0m \u001b[38;5;28mself\u001b[39m\u001b[38;5;241m.\u001b[39m_listing \u001b[38;5;241m=\u001b[39m \u001b[38;5;28mself\u001b[39m\u001b[38;5;241m.\u001b[39m_reddit\u001b[38;5;241m.\u001b[39mget(\u001b[38;5;28mself\u001b[39m\u001b[38;5;241m.\u001b[39murl, params\u001b[38;5;241m=\u001b[39m\u001b[38;5;28mself\u001b[39m\u001b[38;5;241m.\u001b[39mparams)\n\u001b[0;32m     90\u001b[0m \u001b[38;5;28mself\u001b[39m\u001b[38;5;241m.\u001b[39m_listing \u001b[38;5;241m=\u001b[39m \u001b[38;5;28mself\u001b[39m\u001b[38;5;241m.\u001b[39m_extract_sublist(\u001b[38;5;28mself\u001b[39m\u001b[38;5;241m.\u001b[39m_listing)\n\u001b[0;32m     91\u001b[0m \u001b[38;5;28mself\u001b[39m\u001b[38;5;241m.\u001b[39m_list_index \u001b[38;5;241m=\u001b[39m \u001b[38;5;241m0\u001b[39m\n",
      "File \u001b[1;32m~\\anaconda3\\Lib\\site-packages\\praw\\util\\deprecate_args.py:43\u001b[0m, in \u001b[0;36m_deprecate_args.<locals>.wrapper.<locals>.wrapped\u001b[1;34m(*args, **kwargs)\u001b[0m\n\u001b[0;32m     36\u001b[0m     arg_string \u001b[38;5;241m=\u001b[39m _generate_arg_string(_old_args[: \u001b[38;5;28mlen\u001b[39m(args)])\n\u001b[0;32m     37\u001b[0m     warn(\n\u001b[0;32m     38\u001b[0m         \u001b[38;5;124mf\u001b[39m\u001b[38;5;124m\"\u001b[39m\u001b[38;5;124mPositional arguments for \u001b[39m\u001b[38;5;132;01m{\u001b[39;00mfunc\u001b[38;5;241m.\u001b[39m\u001b[38;5;18m__qualname__\u001b[39m\u001b[38;5;132;01m!r}\u001b[39;00m\u001b[38;5;124m will no longer be\u001b[39m\u001b[38;5;124m\"\u001b[39m\n\u001b[0;32m     39\u001b[0m         \u001b[38;5;124mf\u001b[39m\u001b[38;5;124m\"\u001b[39m\u001b[38;5;124m supported in PRAW 8.\u001b[39m\u001b[38;5;130;01m\\n\u001b[39;00m\u001b[38;5;124mCall this function with \u001b[39m\u001b[38;5;132;01m{\u001b[39;00marg_string\u001b[38;5;132;01m}\u001b[39;00m\u001b[38;5;124m.\u001b[39m\u001b[38;5;124m\"\u001b[39m,\n\u001b[0;32m     40\u001b[0m         \u001b[38;5;167;01mDeprecationWarning\u001b[39;00m,\n\u001b[0;32m     41\u001b[0m         stacklevel\u001b[38;5;241m=\u001b[39m\u001b[38;5;241m2\u001b[39m,\n\u001b[0;32m     42\u001b[0m     )\n\u001b[1;32m---> 43\u001b[0m \u001b[38;5;28;01mreturn\u001b[39;00m func(\u001b[38;5;241m*\u001b[39m\u001b[38;5;241m*\u001b[39m\u001b[38;5;28mdict\u001b[39m(\u001b[38;5;28mzip\u001b[39m(_old_args, args)), \u001b[38;5;241m*\u001b[39m\u001b[38;5;241m*\u001b[39mkwargs)\n",
      "File \u001b[1;32m~\\anaconda3\\Lib\\site-packages\\praw\\reddit.py:712\u001b[0m, in \u001b[0;36mReddit.get\u001b[1;34m(self, path, params)\u001b[0m\n\u001b[0;32m    699\u001b[0m \u001b[38;5;129m@_deprecate_args\u001b[39m(\u001b[38;5;124m\"\u001b[39m\u001b[38;5;124mpath\u001b[39m\u001b[38;5;124m\"\u001b[39m, \u001b[38;5;124m\"\u001b[39m\u001b[38;5;124mparams\u001b[39m\u001b[38;5;124m\"\u001b[39m)\n\u001b[0;32m    700\u001b[0m \u001b[38;5;28;01mdef\u001b[39;00m \u001b[38;5;21mget\u001b[39m(\n\u001b[0;32m    701\u001b[0m     \u001b[38;5;28mself\u001b[39m,\n\u001b[1;32m   (...)\u001b[0m\n\u001b[0;32m    704\u001b[0m     params: Optional[Union[\u001b[38;5;28mstr\u001b[39m, Dict[\u001b[38;5;28mstr\u001b[39m, Union[\u001b[38;5;28mstr\u001b[39m, \u001b[38;5;28mint\u001b[39m]]]] \u001b[38;5;241m=\u001b[39m \u001b[38;5;28;01mNone\u001b[39;00m,\n\u001b[0;32m    705\u001b[0m ):\n\u001b[0;32m    706\u001b[0m \u001b[38;5;250m    \u001b[39m\u001b[38;5;124;03m\"\"\"Return parsed objects returned from a GET request to ``path``.\u001b[39;00m\n\u001b[0;32m    707\u001b[0m \n\u001b[0;32m    708\u001b[0m \u001b[38;5;124;03m    :param path: The path to fetch.\u001b[39;00m\n\u001b[0;32m    709\u001b[0m \u001b[38;5;124;03m    :param params: The query parameters to add to the request (default: ``None``).\u001b[39;00m\n\u001b[0;32m    710\u001b[0m \n\u001b[0;32m    711\u001b[0m \u001b[38;5;124;03m    \"\"\"\u001b[39;00m\n\u001b[1;32m--> 712\u001b[0m     \u001b[38;5;28;01mreturn\u001b[39;00m \u001b[38;5;28mself\u001b[39m\u001b[38;5;241m.\u001b[39m_objectify_request(method\u001b[38;5;241m=\u001b[39m\u001b[38;5;124m\"\u001b[39m\u001b[38;5;124mGET\u001b[39m\u001b[38;5;124m\"\u001b[39m, params\u001b[38;5;241m=\u001b[39mparams, path\u001b[38;5;241m=\u001b[39mpath)\n",
      "File \u001b[1;32m~\\anaconda3\\Lib\\site-packages\\praw\\reddit.py:517\u001b[0m, in \u001b[0;36mReddit._objectify_request\u001b[1;34m(self, data, files, json, method, params, path)\u001b[0m\n\u001b[0;32m    491\u001b[0m \u001b[38;5;28;01mdef\u001b[39;00m \u001b[38;5;21m_objectify_request\u001b[39m(\n\u001b[0;32m    492\u001b[0m     \u001b[38;5;28mself\u001b[39m,\n\u001b[0;32m    493\u001b[0m     \u001b[38;5;241m*\u001b[39m,\n\u001b[1;32m   (...)\u001b[0m\n\u001b[0;32m    499\u001b[0m     path: \u001b[38;5;28mstr\u001b[39m \u001b[38;5;241m=\u001b[39m \u001b[38;5;124m\"\u001b[39m\u001b[38;5;124m\"\u001b[39m,\n\u001b[0;32m    500\u001b[0m ) \u001b[38;5;241m-\u001b[39m\u001b[38;5;241m>\u001b[39m Any:\n\u001b[0;32m    501\u001b[0m \u001b[38;5;250m    \u001b[39m\u001b[38;5;124;03m\"\"\"Run a request through the ``Objector``.\u001b[39;00m\n\u001b[0;32m    502\u001b[0m \n\u001b[0;32m    503\u001b[0m \u001b[38;5;124;03m    :param data: Dictionary, bytes, or file-like object to send in the body of the\u001b[39;00m\n\u001b[1;32m   (...)\u001b[0m\n\u001b[0;32m    514\u001b[0m \n\u001b[0;32m    515\u001b[0m \u001b[38;5;124;03m    \"\"\"\u001b[39;00m\n\u001b[0;32m    516\u001b[0m     \u001b[38;5;28;01mreturn\u001b[39;00m \u001b[38;5;28mself\u001b[39m\u001b[38;5;241m.\u001b[39m_objector\u001b[38;5;241m.\u001b[39mobjectify(\n\u001b[1;32m--> 517\u001b[0m         \u001b[38;5;28mself\u001b[39m\u001b[38;5;241m.\u001b[39mrequest(\n\u001b[0;32m    518\u001b[0m             data\u001b[38;5;241m=\u001b[39mdata,\n\u001b[0;32m    519\u001b[0m             files\u001b[38;5;241m=\u001b[39mfiles,\n\u001b[0;32m    520\u001b[0m             json\u001b[38;5;241m=\u001b[39mjson,\n\u001b[0;32m    521\u001b[0m             method\u001b[38;5;241m=\u001b[39mmethod,\n\u001b[0;32m    522\u001b[0m             params\u001b[38;5;241m=\u001b[39mparams,\n\u001b[0;32m    523\u001b[0m             path\u001b[38;5;241m=\u001b[39mpath,\n\u001b[0;32m    524\u001b[0m         )\n\u001b[0;32m    525\u001b[0m     )\n",
      "File \u001b[1;32m~\\anaconda3\\Lib\\site-packages\\praw\\util\\deprecate_args.py:43\u001b[0m, in \u001b[0;36m_deprecate_args.<locals>.wrapper.<locals>.wrapped\u001b[1;34m(*args, **kwargs)\u001b[0m\n\u001b[0;32m     36\u001b[0m     arg_string \u001b[38;5;241m=\u001b[39m _generate_arg_string(_old_args[: \u001b[38;5;28mlen\u001b[39m(args)])\n\u001b[0;32m     37\u001b[0m     warn(\n\u001b[0;32m     38\u001b[0m         \u001b[38;5;124mf\u001b[39m\u001b[38;5;124m\"\u001b[39m\u001b[38;5;124mPositional arguments for \u001b[39m\u001b[38;5;132;01m{\u001b[39;00mfunc\u001b[38;5;241m.\u001b[39m\u001b[38;5;18m__qualname__\u001b[39m\u001b[38;5;132;01m!r}\u001b[39;00m\u001b[38;5;124m will no longer be\u001b[39m\u001b[38;5;124m\"\u001b[39m\n\u001b[0;32m     39\u001b[0m         \u001b[38;5;124mf\u001b[39m\u001b[38;5;124m\"\u001b[39m\u001b[38;5;124m supported in PRAW 8.\u001b[39m\u001b[38;5;130;01m\\n\u001b[39;00m\u001b[38;5;124mCall this function with \u001b[39m\u001b[38;5;132;01m{\u001b[39;00marg_string\u001b[38;5;132;01m}\u001b[39;00m\u001b[38;5;124m.\u001b[39m\u001b[38;5;124m\"\u001b[39m,\n\u001b[0;32m     40\u001b[0m         \u001b[38;5;167;01mDeprecationWarning\u001b[39;00m,\n\u001b[0;32m     41\u001b[0m         stacklevel\u001b[38;5;241m=\u001b[39m\u001b[38;5;241m2\u001b[39m,\n\u001b[0;32m     42\u001b[0m     )\n\u001b[1;32m---> 43\u001b[0m \u001b[38;5;28;01mreturn\u001b[39;00m func(\u001b[38;5;241m*\u001b[39m\u001b[38;5;241m*\u001b[39m\u001b[38;5;28mdict\u001b[39m(\u001b[38;5;28mzip\u001b[39m(_old_args, args)), \u001b[38;5;241m*\u001b[39m\u001b[38;5;241m*\u001b[39mkwargs)\n",
      "File \u001b[1;32m~\\anaconda3\\Lib\\site-packages\\praw\\reddit.py:941\u001b[0m, in \u001b[0;36mReddit.request\u001b[1;34m(self, data, files, json, method, params, path)\u001b[0m\n\u001b[0;32m    939\u001b[0m     \u001b[38;5;28;01mraise\u001b[39;00m ClientException(\u001b[38;5;124m\"\u001b[39m\u001b[38;5;124mAt most one of \u001b[39m\u001b[38;5;124m'\u001b[39m\u001b[38;5;124mdata\u001b[39m\u001b[38;5;124m'\u001b[39m\u001b[38;5;124m or \u001b[39m\u001b[38;5;124m'\u001b[39m\u001b[38;5;124mjson\u001b[39m\u001b[38;5;124m'\u001b[39m\u001b[38;5;124m is supported.\u001b[39m\u001b[38;5;124m\"\u001b[39m)\n\u001b[0;32m    940\u001b[0m \u001b[38;5;28;01mtry\u001b[39;00m:\n\u001b[1;32m--> 941\u001b[0m     \u001b[38;5;28;01mreturn\u001b[39;00m \u001b[38;5;28mself\u001b[39m\u001b[38;5;241m.\u001b[39m_core\u001b[38;5;241m.\u001b[39mrequest(\n\u001b[0;32m    942\u001b[0m         data\u001b[38;5;241m=\u001b[39mdata,\n\u001b[0;32m    943\u001b[0m         files\u001b[38;5;241m=\u001b[39mfiles,\n\u001b[0;32m    944\u001b[0m         json\u001b[38;5;241m=\u001b[39mjson,\n\u001b[0;32m    945\u001b[0m         method\u001b[38;5;241m=\u001b[39mmethod,\n\u001b[0;32m    946\u001b[0m         params\u001b[38;5;241m=\u001b[39mparams,\n\u001b[0;32m    947\u001b[0m         path\u001b[38;5;241m=\u001b[39mpath,\n\u001b[0;32m    948\u001b[0m     )\n\u001b[0;32m    949\u001b[0m \u001b[38;5;28;01mexcept\u001b[39;00m BadRequest \u001b[38;5;28;01mas\u001b[39;00m exception:\n\u001b[0;32m    950\u001b[0m     \u001b[38;5;28;01mtry\u001b[39;00m:\n",
      "File \u001b[1;32m~\\anaconda3\\Lib\\site-packages\\prawcore\\sessions.py:328\u001b[0m, in \u001b[0;36mSession.request\u001b[1;34m(self, method, path, data, files, json, params, timeout)\u001b[0m\n\u001b[0;32m    326\u001b[0m     json[\u001b[38;5;124m\"\u001b[39m\u001b[38;5;124mapi_type\u001b[39m\u001b[38;5;124m\"\u001b[39m] \u001b[38;5;241m=\u001b[39m \u001b[38;5;124m\"\u001b[39m\u001b[38;5;124mjson\u001b[39m\u001b[38;5;124m\"\u001b[39m\n\u001b[0;32m    327\u001b[0m url \u001b[38;5;241m=\u001b[39m urljoin(\u001b[38;5;28mself\u001b[39m\u001b[38;5;241m.\u001b[39m_requestor\u001b[38;5;241m.\u001b[39moauth_url, path)\n\u001b[1;32m--> 328\u001b[0m \u001b[38;5;28;01mreturn\u001b[39;00m \u001b[38;5;28mself\u001b[39m\u001b[38;5;241m.\u001b[39m_request_with_retries(\n\u001b[0;32m    329\u001b[0m     data\u001b[38;5;241m=\u001b[39mdata,\n\u001b[0;32m    330\u001b[0m     files\u001b[38;5;241m=\u001b[39mfiles,\n\u001b[0;32m    331\u001b[0m     json\u001b[38;5;241m=\u001b[39mjson,\n\u001b[0;32m    332\u001b[0m     method\u001b[38;5;241m=\u001b[39mmethod,\n\u001b[0;32m    333\u001b[0m     params\u001b[38;5;241m=\u001b[39mparams,\n\u001b[0;32m    334\u001b[0m     timeout\u001b[38;5;241m=\u001b[39mtimeout,\n\u001b[0;32m    335\u001b[0m     url\u001b[38;5;241m=\u001b[39murl,\n\u001b[0;32m    336\u001b[0m )\n",
      "File \u001b[1;32m~\\anaconda3\\Lib\\site-packages\\prawcore\\sessions.py:267\u001b[0m, in \u001b[0;36mSession._request_with_retries\u001b[1;34m(self, data, files, json, method, params, timeout, url, retry_strategy_state)\u001b[0m\n\u001b[0;32m    254\u001b[0m     \u001b[38;5;28;01mreturn\u001b[39;00m \u001b[38;5;28mself\u001b[39m\u001b[38;5;241m.\u001b[39m_do_retry(\n\u001b[0;32m    255\u001b[0m         data,\n\u001b[0;32m    256\u001b[0m         files,\n\u001b[1;32m   (...)\u001b[0m\n\u001b[0;32m    264\u001b[0m         url,\n\u001b[0;32m    265\u001b[0m     )\n\u001b[0;32m    266\u001b[0m \u001b[38;5;28;01mif\u001b[39;00m response\u001b[38;5;241m.\u001b[39mstatus_code \u001b[38;5;129;01min\u001b[39;00m \u001b[38;5;28mself\u001b[39m\u001b[38;5;241m.\u001b[39mSTATUS_EXCEPTIONS:\n\u001b[1;32m--> 267\u001b[0m     \u001b[38;5;28;01mraise\u001b[39;00m \u001b[38;5;28mself\u001b[39m\u001b[38;5;241m.\u001b[39mSTATUS_EXCEPTIONS[response\u001b[38;5;241m.\u001b[39mstatus_code](response)\n\u001b[0;32m    268\u001b[0m \u001b[38;5;28;01mif\u001b[39;00m response\u001b[38;5;241m.\u001b[39mstatus_code \u001b[38;5;241m==\u001b[39m codes[\u001b[38;5;124m\"\u001b[39m\u001b[38;5;124mno_content\u001b[39m\u001b[38;5;124m\"\u001b[39m]:\n\u001b[0;32m    269\u001b[0m     \u001b[38;5;28;01mreturn\u001b[39;00m \u001b[38;5;28;01mNone\u001b[39;00m\n",
      "\u001b[1;31mRedirect\u001b[0m: Redirect to /subreddits/search"
     ]
    }
   ],
   "source": [
    "import praw\n",
    "import csv\n",
    "\n",
    "# Initialize PRAW with your Reddit API credentials\n",
    "reddit = praw.Reddit(user_agent=\"Comment Extraction (by /u/irproject)\",\n",
    "                     client_id=\"kDrP4C1vGpKvET4kprMexw\", client_secret=\"VWU0iNZSNFv3Hho_kDuQxzHNCiHsmQ\")\n",
    "\n",
    "# Define the filename for your CSV file\n",
    "csv_filename = \"Crypto1.csv\"\n",
    "\n",
    "# Write the extracted data to a CSV file\n",
    "with open(csv_filename, 'w', newline='', encoding='utf-8') as csvfile:\n",
    "    fieldnames = ['title', 'post', 'id', 'url', 'pic']\n",
    "    writer = csv.DictWriter(csvfile, fieldnames=fieldnames)\n",
    "    writer.writeheader()\n",
    "\n",
    "    # Iterate over each subreddit in the list\n",
    "    for subreddit_name in crypto_subreddits:\n",
    "        # Specify the subreddit to extract data from\n",
    "        subreddit = reddit.subreddit(subreddit_name)\n",
    "        \n",
    "        # Iterate over the posts in the subreddit\n",
    "        for post in subreddit.new(limit=None):  # Fetch all posts in the subreddit\n",
    "            writer.writerow({'title': post.title,\n",
    "                             'post': post.selftext,\n",
    "                             'id': post.id,\n",
    "                             'pic': post.url,\n",
    "                             'url': post.url})\n",
    "\n",
    "print(\"Data extracted and stored in\", csv_filename)"
   ]
  },
  {
   "cell_type": "code",
   "execution_count": 91,
   "metadata": {},
   "outputs": [
    {
     "name": "stdout",
     "output_type": "stream",
     "text": [
      "Number of fetched subreddits: 312\n",
      "['BitcoinMining', 'defi', 'Flux_Official', 'PiCryptocurrency', 'web3careers', 'CryptoMoonShots', 'BitcoinQR', 'web3free', 'SourceLessBlockchain', 'CryptoGoofs', 'Vechain', 'Cryptomains', 'AmpleforthCrypto', 'cryptocurrency_ed', 'Crypto_General', 'BinanceCrypto', 'BitcoinBrasil', 'india', 'CryptoICONews', 'libra_cryptocurrency', 'BitcoinToken', 'BitcoinUSA', 'NFTGames', 'Bitcoin_ABC', 'Ripple', 'solana', 'Ankrofficial', 'Cryptozoology', 'litecoin', 'dfinity', 'web3philippines', 'worldnews', 'Shibainucoin', 'InsureCryptocurrency', 'CryptoMars', 'web3inu', 'bitcoinxt', 'SafeMoon', 'Earn_cryptocurrency', 'web3osolutions', 'AMPToken', 'cryptocurrencymemes', 'BitcoinDiscussion', 'CryptoKitties', 'BitcoinRealestate', 'BitcoinThoughts', 'BitcoinAirdrops', 'Web3lounge', 'CryptoGamersCommunity', 'BitcoinBeginners', 'Monolith_Web3', 'Web3_Latina', 'CryptoTrade', 'CryptoMicroInvestors', 'Insula_Cryptocurrency', 'GetCryptocurrency', 'bitcoinpuzzles', 'Tabi_Voyager', 'CryptocurrencyAlerts', 'bitcoin_unlimited', 'CryptoSoul', 'BitcoinGambling', 'MoonshotCrypto', 'CryptoTrees', 'CryptocurrencyDev', 'suBitcoin', 'BitcoinAir', 'Polkadot', 'web3marketinggroup', 'technology', 'CryptocurrencyFinance', 'thegraph', 'web3gaming', 'CryptoAnarchy', 'BitcoinABC', 'Web3DeBankDefi', 'Anarcho_Capitalism', 'Bitcoin', 'Terra_Luna_crypto', 'Bitcoin_Subreddit', 'web3sec', 'Bitcoin_Classic', 'Bitcoin_News', 'BitcoinDenmark', 'SubredditDrama', 'BitcoinMarkets', 'web3dev', 'OfficialTheDappList', 'web3community', 'web3_', 'NEO', 'BitcoinOrdinals', 'cryptocurrency_ja', 'CryptoScamBlacklist', 'CryptocurrencyNZ', 'BridgesCryptocurrency', 'CryptoReleasesDaily', 'CryptocurrencyTrends', 'altcoin', 'ETHSTAKERS', 'SHIBArmy', 'iexec', 'web3nfts', 'web3youth', 'CryptoMoonRocks', 'opensea', 'CryptoIndia', 'elrondnetwork', 'CryptoBanter', 'CryptoCurrencyMoons', 'BitcoinIndia', 'web3coin', 'news', 'HawaiiCryptocurrency', 'ethdev', 'ico_cryptocurrency', 'CRO_cryptocurrency', 'CryptoMexico', 'shitcoinmoonshots', 'reddCoin', 'Insure_Bitcoin', 'dogelon', 'GME', 'CryptoMarsShots', 'EscapefromTarkov', 'DonateCryptocurrency', 'Web3Skepticism', 'CryptoKami', 'BitcoinNL', 'binance', 'web3bets_ecosystem', 'Monero', 'CryptoCurrencyClassic', '0xPolygon', 'MiningBitcoin', 'CryptoMoonshot', 'Web3SocialMedia', 'CryptoAlgebra', 'Crypto_Currency_News', 'NFTsMarketplace', 'tezos', 'solcial', 'CryptocurrencyScoop', 'ethtrader', 'LivingOnBitcoin', 'CryptocurrencySA', 'CryptocurrencyExpress', 'eos', 'Web3Memes', 'smartcontracts', 'CryptoCurrency', 'BATProject', 'polygonnetwork', 'web3land', 'Koda_Cryptocurrency', 'economy', 'BitcoinAUS', 'btc', 'lightningnetwork', 'WallStreetBetsCrypto', 'CryptoForSpeed', 'AltcoinsAndWeb3', 'apexlegends', 'CryptoCurrencies', 'BlockChain', 'CryptocurrencyOffers', 'Superstonk', 'BitcoinTechnology', 'EnoughLibertarianSpam', 'conspiracy', 'AllCryptoBets', 'CryptoNews', 'CreditsCryptocurrency', 'ImmutableX', 'BitcoinCA', 'dogecoin', 'CryptoScams', 'ethereum', 'CryptoArt', 'Web3Project', 'MarvelousAIGen', 'CryptoICO', 'Web3D', 'cryptocurrency_ath', 'bitcoin_uncensored', 'BitcoinUK', 'ico_crypto', 'CoinBase', 'adabsolutions', 'BitcoinStocks', 'harmony_one', 'BitcoinNews', 'Cryptocurrency_Today', 'CryptoAirdrop', 'GoldandBlack', 'SatoshiStreetBets', 'BitcoinTutorial', 'CryptoMoonshots2', 'PiCrypto', 'BitcoinJobs', 'BitcoinSerious', 'bitcointrading', 'CryptoFrance', 'Web3Analytics', 'KodaCryptocurrency', 'BitcoinDE', 'bsv', 'amcstock', 'cryptotrading', 'CryptocurrencyLovers', 'CryptocurrencyToday', 'CryptocurrencyExposed', 'BitcoinBums', 'CryptoDirectory', 'CryptoFR', 'Bitcoincash', 'Iota', 'BlockchainStartups', 'Web3_AlphaCommunity', 'CryptocurrencyNC', 'BitcoinAll', 'crypto_currency', 'KinFoundation', 'Crypto_com', 'Chainlink', 'vertcoin', 'web3domains', 'trustapp', 'bit_coin', 'CryptoCurrencyMeta', 'Cryptocurrency_BR', 'BitcoinDK', 'crypto', 'BitcoinGoldHQ', 'cardano', 'Libertarian', 'cryptomining', 'cryptocritical', 'Crypto_Currency_', 'noncensored_bitcoin', 'dot', 'ArgenBitcoin', 'magicsquare', 'Avax', 'CryptoBlades', 'CryptoInvestWeb3', 'cosmosnetwork', 'BSCMoonShots', 'web3', 'Cryptocurrency_test', 'BitcoinBanana', 'NFTExchange', 'web3coins', 'world_cryptocurrency', 'BrasilBitcoin', 'loopringorg', 'CryptoTradingFloor', 'CryptocurrencyReviews', 'Cloud9Web3', 'CryptoMoon', 'solidity', 'web3musicians', 'CryptoPeople', 'NFT', 'web3andmetaverse', 'CryptocurrencyTRX', 'Wallstreetsilver', 'CryptocurrencyVideos', 'cro', 'CryptoCurrencyTrading', 'Bitcoin_ETF', 'SproutsCryptocurrency', 'Stellar', 'Jobs4Bitcoins', 'CryptocurrencyProfits', 'ShowMeta', 'FreeCryptocurrency', 'BitcoinPrivate', 'algorand', 'BitcoinNO', 'MoralisWeb3', 'Web3Finance', 'CryptoMarkets', 'bluocean', 'NSFW_Cryptocurrency', 'BitcoinBetting', 'CryptocurrencyICO', 'Web3Inu_Official', 'bitcoincashSV', 'CryptoReality', 'BitcoinSapphire', 'Buttcoin', 'CryptocurrencyICOs', 'nanocurrency', 'ico', 'CryptoHorde', 'BitcoinTV', 'KhmerCryptocurrency', 'CryptoTechnology', 'EarnCryptocurrency', 'BitcoinBillionaireApp', 'kucoin', 'dashpay', 'BitcoinExchange', 'BitcoinFrance', 'AlgorandOfficial', 'Hedera', 'Cryptocurrency_Daily', 'web3economy', 'NarutoInu', 'CryptoTax', 'CallistoCrypto']\n"
     ]
    }
   ],
   "source": [
    "\n",
    "\n",
    "# Keywords related to cryptocurrency, Bitcoin, or web3\n",
    "keywords = ['crypto', 'cryptocurrency', 'bitcoin', 'web3']\n",
    "\n",
    "# List to store subreddit names\n",
    "crypto_subreddits = []\n",
    "\n",
    "# Fetch subreddit names containing the keywords\n",
    "for keyword in keywords:\n",
    "    subreddits = reddit.subreddits.search(keyword)\n",
    "    for subreddit in subreddits:\n",
    "        crypto_subreddits.append(subreddit.display_name)\n",
    "\n",
    "# Remove duplicates\n",
    "crypto_subreddits = list(set(crypto_subreddits))\n",
    "\n",
    "# Print the number of fetched subreddits\n",
    "print(\"Number of fetched subreddits:\", len(crypto_subreddits))\n",
    "\n",
    "# Print the fetched subreddits (you may want to comment this out if there are too many)\n",
    "print(crypto_subreddits)"
   ]
  }
 ],
 "metadata": {
  "kernelspec": {
   "display_name": "Python 3 (ipykernel)",
   "language": "python",
   "name": "python3"
  },
  "language_info": {
   "codemirror_mode": {
    "name": "ipython",
    "version": 3
   },
   "file_extension": ".py",
   "mimetype": "text/x-python",
   "name": "python",
   "nbconvert_exporter": "python",
   "pygments_lexer": "ipython3",
   "version": "3.11.5"
  }
 },
 "nbformat": 4,
 "nbformat_minor": 2
}
