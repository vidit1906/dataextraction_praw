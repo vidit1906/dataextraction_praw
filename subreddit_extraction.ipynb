{
 "cells": [
  {
   "cell_type": "code",
   "execution_count": 22,
   "metadata": {},
   "outputs": [],
   "source": [
    "import pandas as pd\n",
    "import praw\n",
    "from praw.models import MoreComments   "
   ]
  },
  {
   "cell_type": "code",
   "execution_count": 23,
   "metadata": {},
   "outputs": [],
   "source": [
    "reddit = praw.Reddit(user_agent=\"Comment Extraction (by /u/irproject)\",\n",
    "                     client_id=\"kDrP4C1vGpKvET4kprMexw\", client_secret=\"VWU0iNZSNFv3Hho_kDuQxzHNCiHsmQ\")"
   ]
  },
  {
   "cell_type": "code",
   "execution_count": 27,
   "metadata": {},
   "outputs": [],
   "source": [
    "top = reddit.subreddit(\"Bitcoin\").top(limit=\"500\")"
   ]
  },
  {
   "cell_type": "code",
   "execution_count": 28,
   "metadata": {},
   "outputs": [
    {
     "ename": "TypeError",
     "evalue": "'>=' not supported between instances of 'int' and 'str'",
     "output_type": "error",
     "traceback": [
      "\u001b[1;31m---------------------------------------------------------------------------\u001b[0m",
      "\u001b[1;31mTypeError\u001b[0m                                 Traceback (most recent call last)",
      "Cell \u001b[1;32mIn[28], line 1\u001b[0m\n\u001b[1;32m----> 1\u001b[0m \u001b[38;5;28;01mfor\u001b[39;00m post \u001b[38;5;129;01min\u001b[39;00m top:\n\u001b[0;32m      2\u001b[0m     \u001b[38;5;28mprint\u001b[39m(post\u001b[38;5;241m.\u001b[39mselftext)\n\u001b[0;32m      3\u001b[0m     \u001b[38;5;28mprint\u001b[39m(post\u001b[38;5;241m.\u001b[39mtitle)\n",
      "File \u001b[1;32m~\\anaconda3\\Lib\\site-packages\\praw\\models\\listing\\generator.py:59\u001b[0m, in \u001b[0;36mListingGenerator.__next__\u001b[1;34m(self)\u001b[0m\n\u001b[0;32m     57\u001b[0m \u001b[38;5;28;01mdef\u001b[39;00m \u001b[38;5;21m__next__\u001b[39m(\u001b[38;5;28mself\u001b[39m) \u001b[38;5;241m-\u001b[39m\u001b[38;5;241m>\u001b[39m Any:\n\u001b[0;32m     58\u001b[0m \u001b[38;5;250m    \u001b[39m\u001b[38;5;124;03m\"\"\"Permit :class:`.ListingGenerator` to operate as a generator.\"\"\"\u001b[39;00m\n\u001b[1;32m---> 59\u001b[0m     \u001b[38;5;28;01mif\u001b[39;00m \u001b[38;5;28mself\u001b[39m\u001b[38;5;241m.\u001b[39mlimit \u001b[38;5;129;01mis\u001b[39;00m \u001b[38;5;129;01mnot\u001b[39;00m \u001b[38;5;28;01mNone\u001b[39;00m \u001b[38;5;129;01mand\u001b[39;00m \u001b[38;5;28mself\u001b[39m\u001b[38;5;241m.\u001b[39myielded \u001b[38;5;241m>\u001b[39m\u001b[38;5;241m=\u001b[39m \u001b[38;5;28mself\u001b[39m\u001b[38;5;241m.\u001b[39mlimit:\n\u001b[0;32m     60\u001b[0m         \u001b[38;5;28;01mraise\u001b[39;00m \u001b[38;5;167;01mStopIteration\u001b[39;00m()\n\u001b[0;32m     62\u001b[0m     \u001b[38;5;28;01mif\u001b[39;00m \u001b[38;5;28mself\u001b[39m\u001b[38;5;241m.\u001b[39m_listing \u001b[38;5;129;01mis\u001b[39;00m \u001b[38;5;28;01mNone\u001b[39;00m \u001b[38;5;129;01mor\u001b[39;00m \u001b[38;5;28mself\u001b[39m\u001b[38;5;241m.\u001b[39m_list_index \u001b[38;5;241m>\u001b[39m\u001b[38;5;241m=\u001b[39m \u001b[38;5;28mlen\u001b[39m(\u001b[38;5;28mself\u001b[39m\u001b[38;5;241m.\u001b[39m_listing):\n",
      "\u001b[1;31mTypeError\u001b[0m: '>=' not supported between instances of 'int' and 'str'"
     ]
    }
   ],
   "source": [
    "for post in top:\n",
    "    print(post.selftext)\n",
    "    print(post.title)\n",
    "    print(post.id)\n",
    "    print(post.score)\n",
    "    print(post.url)\n",
    "    print(post.permalink)\n",
    " "
   ]
  },
  {
   "cell_type": "code",
   "execution_count": 34,
   "metadata": {},
   "outputs": [
    {
     "name": "stdout",
     "output_type": "stream",
     "text": [
      "16bm9de\n",
      "1ak2x6v\n",
      "1akfscr\n",
      "1akao74\n",
      "1akhs5o\n",
      "1akl8xu\n",
      "1ak81qj\n",
      "1akczwo\n",
      "1aklmp8\n",
      "1ajys8m\n",
      "1akgjg4\n",
      "1akbhch\n",
      "1akdbox\n",
      "1akn4hq\n",
      "1ak8kys\n",
      "1ak5q8h\n",
      "1aknbk0\n",
      "1akh98c\n",
      "1akbhrq\n",
      "1akj6vq\n",
      "1akcund\n",
      "1ako6zk\n",
      "1ak6g2g\n",
      "1akmt02\n",
      "1ak610q\n",
      "1akfm10\n",
      "1ajvgv8\n",
      "1ajhoae\n",
      "1ak3wmx\n",
      "1akj4zd\n"
     ]
    }
   ],
   "source": [
    "try:\n",
    "\treddit = praw.Reddit(client_id=\"kDrP4C1vGpKvET4kprMexw\", client_secret=\"VWU0iNZSNFv3Hho_kDuQxzHNCiHsmQ\", username=\"irproject\", password=\"password123\", user_agent='irproject')\n",
    "\thot_posts = reddit.subreddit('Bitcoin').hot(limit=30)\n",
    "\tfor submission in hot_posts: # this is the line that creates the error\n",
    "\t\tprint(submission)\n",
    "except Exception as e:\n",
    "\ttrace_back = sys.exc_info()[2]\n",
    "\tline = trace_back.tb_lineno\n",
    "\tprint(\"Process Exception in line {}\".format(line), e)"
   ]
  },
  {
   "cell_type": "code",
   "execution_count": 30,
   "metadata": {},
   "outputs": [],
   "source": [
    "import sys"
   ]
  },
  {
   "cell_type": "code",
   "execution_count": 36,
   "metadata": {},
   "outputs": [],
   "source": [
    "reddit = praw.Reddit(client_id=\"kDrP4C1vGpKvET4kprMexw\", client_secret=\"VWU0iNZSNFv3Hho_kDuQxzHNCiHsmQ\", username=\"irproject\", password=\"password123\", user_agent='irproject')\n"
   ]
  },
  {
   "cell_type": "code",
   "execution_count": 72,
   "metadata": {},
   "outputs": [],
   "source": [
    "top = reddit.subreddit('Bitcoin').top(limit=999999999999999)\n",
    "title = []\n",
    "body = []\n",
    "ids=[]\n",
    "url = []"
   ]
  },
  {
   "cell_type": "code",
   "execution_count": 79,
   "metadata": {},
   "outputs": [],
   "source": [
    "for items in top:\n",
    "    title.append(post.title)"
   ]
  },
  {
   "cell_type": "code",
   "execution_count": 80,
   "metadata": {},
   "outputs": [],
   "source": [
    "for items in top:\n",
    "    body.append(post.selftext)\n",
    "\n",
    "for items in top:\n",
    "    ids.append(post.id)\n",
    "for items in top:\n",
    "    url.append(post.url)"
   ]
  },
  {
   "cell_type": "code",
   "execution_count": 81,
   "metadata": {},
   "outputs": [
    {
     "name": "stdout",
     "output_type": "stream",
     "text": [
      "CSV file created successfully.\n"
     ]
    }
   ],
   "source": [
    "csv_filename = \"reddit1.csv\"\n",
    "with open(csv_filename, 'w', newline='', encoding='utf-8') as csvfile:\n",
    "    fieldnames = ['post_title', 'post_body','post_id','post_url']\n",
    "    writer = csv.DictWriter(csvfile, fieldnames=fieldnames)\n",
    "\n",
    "    writer.writeheader()\n",
    "    for item in title:\n",
    "        writer.writerow({'post_title': item})\n",
    "\n",
    "print(\"CSV file created successfully.\")"
   ]
  },
  {
   "cell_type": "code",
   "execution_count": 82,
   "metadata": {},
   "outputs": [],
   "source": [
    "    for item in body:\n",
    "        writer.writerow({'post_body': item})\n",
    "    for item in url:\n",
    "        writer.writerow({'post_url': item})\n",
    "    for item in ids:\n",
    "        writer.writerow({'post_id': item})\n",
    "\n",
    "        \n",
    "\n"
   ]
  },
  {
   "cell_type": "code",
   "execution_count": 87,
   "metadata": {},
   "outputs": [
    {
     "name": "stdout",
     "output_type": "stream",
     "text": [
      "Data extracted and stored in Crypto1.csv\n"
     ]
    }
   ],
   "source": [
    "import praw\n",
    "import csv\n",
    "\n",
    "# Initialize PRAW with your Reddit API credentials\n",
    "reddit = praw.Reddit(user_agent=\"Comment Extraction (by /u/irproject)\",\n",
    "                     client_id=\"kDrP4C1vGpKvET4kprMexw\", client_secret=\"VWU0iNZSNFv3Hho_kDuQxzHNCiHsmQ\")\n",
    "\n",
    "# Specify the subreddit to extract data from\n",
    "subreddit = reddit.subreddit('Crypto')\n",
    "\n",
    "# Define the filename for your CSV file\n",
    "csv_filename = \"Crypto1.csv\"\n",
    "\n",
    "# Write the extracted data to a CSV file\n",
    "with open(csv_filename, 'w', newline='', encoding='utf-8') as csvfile:\n",
    "    fieldnames = ['title', 'post', 'id', 'url', 'pic']\n",
    "    writer = csv.DictWriter(csvfile, fieldnames=fieldnames)\n",
    "    writer.writeheader()\n",
    "\n",
    "    # Iterate over the posts in the subreddit\n",
    "    post_count = 0\n",
    "    for post in subreddit.new(limit=None):  # Fetch all posts in the subreddit\n",
    "        writer.writerow({'title': post.title,\n",
    "                         'post': post.selftext,\n",
    "                         'id': post.id,\n",
    "                         'pic': post.url,\n",
    "                         'url': post.url})\n",
    "        post_count += 1\n",
    "\n",
    "        # Check if the file size exceeds 500 MB\n",
    "        if csvfile.tell() > 500 * 1024 * 1024:  # Convert MB to bytes\n",
    "            print(f\"Data collection complete. Collected {post_count} posts.\")\n",
    "            break\n",
    "\n",
    "print(\"Data extracted and stored in\", csv_filename)"
   ]
  }
 ],
 "metadata": {
  "kernelspec": {
   "display_name": "Python 3 (ipykernel)",
   "language": "python",
   "name": "python3"
  }
 },
 "nbformat": 4,
 "nbformat_minor": 2
}
